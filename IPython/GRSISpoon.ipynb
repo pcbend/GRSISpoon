{
 "metadata": {
  "name": ""
 },
 "nbformat": 3,
 "nbformat_minor": 0,
 "worksheets": [
  {
   "cells": [
    {
     "cell_type": "markdown",
     "metadata": {},
     "source": [
      "#GRSISpoon Sorting Interface"
     ]
    },
    {
     "cell_type": "markdown",
     "metadata": {},
     "source": [
      "<button onclick='hide()'>Hide Code</button>\n",
      "<button onclick='show()'>Show Code</button>\n",
      "\n",
      "<script type=\"text/javascript\">\n",
      "    function hide(){\n",
      "        $('div.input').hide();\n",
      "        $('div.out_prompt_overlay.prompt').hide();\n",
      "        $('div.prompt.output_prompt').hide();\n",
      "        $('div#header').hide();\n",
      "        $('div#menubar-container').hide();\n",
      "    }\n",
      "    \n",
      "    function show(){\n",
      "        $('div.input').show();\n",
      "        $('div.out_prompt_overlay.prompt').show();\n",
      "        $('div.prompt.output_prompt').show();\n",
      "        $('div#header').show();\n",
      "        $('div#menubar-container').show();\n",
      "    }\n",
      "</script>"
     ]
    },
    {
     "cell_type": "code",
     "collapsed": false,
     "input": [
      "%%HTML\n",
      "\n",
      "<div id='testwrap'>\n",
      "<select id='plotOptions'></select>\n",
      "<img id='imgtarget'></img>\n",
      "<button id='fetchplot' onclick='exec_code()'>Plot</button>\n",
      "</div>"
     ],
     "language": "python",
     "metadata": {},
     "outputs": [
      {
       "html": [
        "\n",
        "<div id='testwrap'>\n",
        "<select id='plotOptions'></select>\n",
        "<img id='imgtarget'></img>\n",
        "<button id='fetchplot' onclick='exec_code()'>Plot</button>\n",
        "</div>"
       ],
       "metadata": {},
       "output_type": "display_data",
       "text": [
        "<IPython.core.display.HTML at 0x3cdecd0>"
       ]
      }
     ],
     "prompt_number": 2
    },
    {
     "cell_type": "code",
     "collapsed": false,
     "input": [
      "%%javascript\n",
      "getListOfVariables()"
     ],
     "language": "python",
     "metadata": {},
     "outputs": [
      {
       "javascript": [
        "getListOfVariables()"
       ],
       "metadata": {},
       "output_type": "display_data",
       "text": [
        "<IPython.core.display.Javascript at 0x4c8d3d0>"
       ]
      }
     ],
     "prompt_number": 3
    },
    {
     "cell_type": "code",
     "collapsed": false,
     "input": [],
     "language": "python",
     "metadata": {},
     "outputs": []
    }
   ],
   "metadata": {}
  }
 ]
}